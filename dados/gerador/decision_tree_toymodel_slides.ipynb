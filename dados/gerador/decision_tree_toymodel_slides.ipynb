{
 "cells": [
  {
   "cell_type": "code",
   "execution_count": 1,
   "metadata": {},
   "outputs": [],
   "source": [
    "import numpy as np\n",
    "import pandas as pd\n",
    "import matplotlib.pyplot as plt\n",
    "import random\n"
   ]
  },
  {
   "cell_type": "code",
   "execution_count": 38,
   "metadata": {},
   "outputs": [],
   "source": [
    "# x = np.array([np.array([round(20*random.random(),1), round(20*random.random(),1)])-np.array([10,10]) for i in range(20)])"
   ]
  },
  {
   "cell_type": "code",
   "execution_count": 5,
   "metadata": {},
   "outputs": [],
   "source": [
    "# print(x)"
   ]
  },
  {
   "cell_type": "code",
   "execution_count": 2,
   "metadata": {},
   "outputs": [],
   "source": [
    "x = [[-0.7, -6.9],\n",
    "    [-0.4, -4.9],\n",
    "    [-2.4,  2.4],\n",
    "    [ 8.2,  1.2],\n",
    "    [-3.2, -0.4],\n",
    "    [-5. , -8.4],\n",
    "    [ 0.1,  3. ],\n",
    "    [-1.6, -6.5],\n",
    "    [-1.2,  1.3],\n",
    "    [-0.7,  3.6],\n",
    "    [-8.6,  6. ],\n",
    "    [ 4.6,  4.1],\n",
    "    [ 2.3, -1. ],\n",
    "    [ 7.2, -9.5],\n",
    "    [-0.4, -1. ],\n",
    "    [ 1.9,  0.9],\n",
    "    [ 6.5, -5.1],\n",
    "    [ 9. ,  0.9],\n",
    "    [-4.3,  2.1],\n",
    "    [-7.5, -5.3]]"
   ]
  },
  {
   "cell_type": "code",
   "execution_count": 3,
   "metadata": {},
   "outputs": [],
   "source": [
    "def f(x):\n",
    "    if x[1] > 3:\n",
    "        return 1\n",
    "    else:\n",
    "        if x[0] < -7:\n",
    "            return 1\n",
    "        else:\n",
    "            if x[0] > 0.5:\n",
    "                return 1\n",
    "            else:\n",
    "                return 0"
   ]
  },
  {
   "cell_type": "code",
   "execution_count": 4,
   "metadata": {},
   "outputs": [],
   "source": [
    "y = [f(x[i]) for i in range(20)]\n",
    "\n",
    "X_0 = [x[i] for i in range(len(x)) if y[i] == 0]\n",
    "X_1 = [x[i] for i in range(len(x)) if y[i] == 1]"
   ]
  },
  {
   "cell_type": "code",
   "execution_count": 5,
   "metadata": {},
   "outputs": [
    {
     "data": {
      "image/png": "[encoded data removed]",
      "text/plain": [
       "<Figure size 640x480 with 1 Axes>"
      ]
     },
     "metadata": {},
     "output_type": "display_data"
    }
   ],
   "source": [
    "# points\n",
    "plt.scatter([x[0] for x in X_0], [x[1] for x in X_0], color='red')\n",
    "plt.scatter([x[0] for x in X_1], [x[1] for x in X_1], color='blue')\n",
    "plt.show()"
   ]
  },
  {
   "cell_type": "code",
   "execution_count": 6,
   "metadata": {},
   "outputs": [],
   "source": [
    "df = pd.DataFrame(x, columns=['x_0', 'x_1'])\n",
    "df['y'] = y\n",
    "# df.to_csv(\"points_dtc.csv\", index=False)"
   ]
  },
  {
   "cell_type": "code",
   "execution_count": 2,
   "metadata": {},
   "outputs": [
    {
     "data": {
      "text/html": [
       "<div>\n",
       "<style scoped>\n",
       "    .dataframe tbody tr th:only-of-type {\n",
       "        vertical-align: middle;\n",
       "    }\n",
       "\n",
       "    .dataframe tbody tr th {\n",
       "        vertical-align: top;\n",
       "    }\n",
       "\n",
       "    .dataframe thead th {\n",
       "        text-align: right;\n",
       "    }\n",
       "</style>\n",
       "<table border=\"1\" class=\"dataframe\">\n",
       "  <thead>\n",
       "    <tr style=\"text-align: right;\">\n",
       "      <th></th>\n",
       "      <th>x_0</th>\n",
       "      <th>x_1</th>\n",
       "      <th>y</th>\n",
       "    </tr>\n",
       "  </thead>\n",
       "  <tbody>\n",
       "    <tr>\n",
       "      <th>0</th>\n",
       "      <td>-0.7</td>\n",
       "      <td>-6.9</td>\n",
       "      <td>0</td>\n",
       "    </tr>\n",
       "    <tr>\n",
       "      <th>1</th>\n",
       "      <td>-0.4</td>\n",
       "      <td>-4.9</td>\n",
       "      <td>0</td>\n",
       "    </tr>\n",
       "    <tr>\n",
       "      <th>2</th>\n",
       "      <td>-2.4</td>\n",
       "      <td>2.4</td>\n",
       "      <td>0</td>\n",
       "    </tr>\n",
       "    <tr>\n",
       "      <th>3</th>\n",
       "      <td>8.2</td>\n",
       "      <td>1.2</td>\n",
       "      <td>1</td>\n",
       "    </tr>\n",
       "    <tr>\n",
       "      <th>4</th>\n",
       "      <td>-3.2</td>\n",
       "      <td>-0.4</td>\n",
       "      <td>0</td>\n",
       "    </tr>\n",
       "    <tr>\n",
       "      <th>5</th>\n",
       "      <td>-5.0</td>\n",
       "      <td>-8.4</td>\n",
       "      <td>0</td>\n",
       "    </tr>\n",
       "    <tr>\n",
       "      <th>6</th>\n",
       "      <td>0.1</td>\n",
       "      <td>3.0</td>\n",
       "      <td>0</td>\n",
       "    </tr>\n",
       "    <tr>\n",
       "      <th>7</th>\n",
       "      <td>-1.6</td>\n",
       "      <td>-6.5</td>\n",
       "      <td>0</td>\n",
       "    </tr>\n",
       "    <tr>\n",
       "      <th>8</th>\n",
       "      <td>-1.2</td>\n",
       "      <td>1.3</td>\n",
       "      <td>0</td>\n",
       "    </tr>\n",
       "    <tr>\n",
       "      <th>9</th>\n",
       "      <td>-0.7</td>\n",
       "      <td>3.6</td>\n",
       "      <td>1</td>\n",
       "    </tr>\n",
       "    <tr>\n",
       "      <th>10</th>\n",
       "      <td>-8.6</td>\n",
       "      <td>6.0</td>\n",
       "      <td>1</td>\n",
       "    </tr>\n",
       "    <tr>\n",
       "      <th>11</th>\n",
       "      <td>4.6</td>\n",
       "      <td>4.1</td>\n",
       "      <td>1</td>\n",
       "    </tr>\n",
       "    <tr>\n",
       "      <th>12</th>\n",
       "      <td>2.3</td>\n",
       "      <td>-1.0</td>\n",
       "      <td>1</td>\n",
       "    </tr>\n",
       "    <tr>\n",
       "      <th>13</th>\n",
       "      <td>7.2</td>\n",
       "      <td>-9.5</td>\n",
       "      <td>1</td>\n",
       "    </tr>\n",
       "    <tr>\n",
       "      <th>14</th>\n",
       "      <td>-0.4</td>\n",
       "      <td>-1.0</td>\n",
       "      <td>0</td>\n",
       "    </tr>\n",
       "    <tr>\n",
       "      <th>15</th>\n",
       "      <td>1.9</td>\n",
       "      <td>0.9</td>\n",
       "      <td>1</td>\n",
       "    </tr>\n",
       "    <tr>\n",
       "      <th>16</th>\n",
       "      <td>6.5</td>\n",
       "      <td>-5.1</td>\n",
       "      <td>1</td>\n",
       "    </tr>\n",
       "    <tr>\n",
       "      <th>17</th>\n",
       "      <td>9.0</td>\n",
       "      <td>0.9</td>\n",
       "      <td>1</td>\n",
       "    </tr>\n",
       "    <tr>\n",
       "      <th>18</th>\n",
       "      <td>-4.3</td>\n",
       "      <td>2.1</td>\n",
       "      <td>0</td>\n",
       "    </tr>\n",
       "    <tr>\n",
       "      <th>19</th>\n",
       "      <td>-7.5</td>\n",
       "      <td>-5.3</td>\n",
       "      <td>1</td>\n",
       "    </tr>\n",
       "  </tbody>\n",
       "</table>\n",
       "</div>"
      ],
      "text/plain": [
       "    x_0  x_1  y\n",
       "0  -0.7 -6.9  0\n",
       "1  -0.4 -4.9  0\n",
       "2  -2.4  2.4  0\n",
       "3   8.2  1.2  1\n",
       "4  -3.2 -0.4  0\n",
       "5  -5.0 -8.4  0\n",
       "6   0.1  3.0  0\n",
       "7  -1.6 -6.5  0\n",
       "8  -1.2  1.3  0\n",
       "9  -0.7  3.6  1\n",
       "10 -8.6  6.0  1\n",
       "11  4.6  4.1  1\n",
       "12  2.3 -1.0  1\n",
       "13  7.2 -9.5  1\n",
       "14 -0.4 -1.0  0\n",
       "15  1.9  0.9  1\n",
       "16  6.5 -5.1  1\n",
       "17  9.0  0.9  1\n",
       "18 -4.3  2.1  0\n",
       "19 -7.5 -5.3  1"
      ]
     },
     "execution_count": 2,
     "metadata": {},
     "output_type": "execute_result"
    }
   ],
   "source": [
    "df = pd.read_csv(\"points_dtc.csv\")\n",
    "df"
   ]
  },
  {
   "cell_type": "code",
   "execution_count": 10,
   "metadata": {},
   "outputs": [
    {
     "data": {
      "image/png": "[encoded data removed]",
      "text/plain": [
       "<Figure size 640x480 with 1 Axes>"
      ]
     },
     "metadata": {},
     "output_type": "display_data"
    }
   ],
   "source": [
    "import seaborn as sns\n",
    "sns.set_theme(style='ticks', context='talk')\n",
    "import numpy as np\n",
    "\n",
    "fig, ax = plt.subplots()\n",
    "colors = {0: '#2c7fb8', 1: '#f03b20'} \n",
    "\n",
    "# Group by 'label' and then plot each group\n",
    "for label, group in df.groupby('y'):\n",
    "    group.plot(ax=ax, kind='scatter', x='x_0', y='x_1', color=colors[label], s=100)\n",
    "\n",
    "line = np.linspace(-11, 11, 100)\n",
    "plt.plot(np.ones(100)*(1.0), line, color='black', linestyle='-', linewidth=2)\n",
    "# plt.plot(np.ones(100)*(-5.9), line, color='grey', linestyle='--', linewidth=2)\n",
    "plt.plot(np.ones(100)*(-1.0), line, color='grey', linestyle='--', linewidth=2)\n",
    "# plt.plot(np.linspace(-11, 1, 100), np.ones(100)*(3.3), color='grey', linestyle='--', linewidth=2)\n",
    "# plt.plot(np.linspace(-11, 1, 100), np.ones(100)*(-2.9), color='grey', linestyle='--', linewidth=2)\n",
    "# plt.plot(np.linspace(-11, 11, 100), np.ones(100)*(-2.9), color='grey', linestyle='--', linewidth=2)\n",
    "plt.xlim(-11,11)\n",
    "plt.ylim(-11,11)\n",
    "plt.xlabel('$x_0$', fontsize=18)  \n",
    "plt.ylabel('$x_1$', fontsize=18) \n",
    "plt.tick_params(axis='both', which='major', labelsize=18)\n",
    "# plt.title('Dataset classes')\n",
    "# plt.legend()\n",
    "plt.gca().set_aspect(1)\n",
    "# plt.savefig('datasets_decisiontree_possible_8.png', dpi=400, format='png', bbox_inches='tight', transparent=True)\n",
    "plt.show()"
   ]
  },
  {
   "cell_type": "code",
   "execution_count": 28,
   "metadata": {},
   "outputs": [],
   "source": [
    "from sklearn.tree import DecisionTreeClassifier, plot_tree\n",
    "from sklearn.model_selection import train_test_split\n",
    "from sklearn.metrics import accuracy_score"
   ]
  },
  {
   "cell_type": "code",
   "execution_count": 21,
   "metadata": {},
   "outputs": [],
   "source": [
    "X = df[['x_0', 'x_1']]\n",
    "y = df['y']"
   ]
  },
  {
   "cell_type": "code",
   "execution_count": 22,
   "metadata": {},
   "outputs": [],
   "source": [
    "X_train, X_test, y_train, y_test = train_test_split(X, y, random_state=13, test_size=0.3)"
   ]
  },
  {
   "cell_type": "code",
   "execution_count": 46,
   "metadata": {},
   "outputs": [
    {
     "name": "stdout",
     "output_type": "stream",
     "text": [
      "Accuracy score (train) = 1.00, Accuracy score (test) = 1.00\n"
     ]
    }
   ],
   "source": [
    "model = DecisionTreeClassifier()\n",
    "model.fit(X_train, y_train)\n",
    "\n",
    "y_pred_train = model.predict(X_train)\n",
    "y_pred_test = model.predict(X_test)\n",
    "\n",
    "acc_train = accuracy_score(y_pred_train, y_train)\n",
    "acc_test = accuracy_score(y_pred_test, y_test)\n",
    "\n",
    "print(f\"Accuracy score (train) = {acc_train:.2f}, Accuracy score (test) = {acc_test:.2f}\")\n"
   ]
  },
  {
   "cell_type": "code",
   "execution_count": 47,
   "metadata": {},
   "outputs": [
    {
     "data": {
      "image/png": "[encoded data removed]",
      "text/plain": [
       "<Figure size 640x480 with 1 Axes>"
      ]
     },
     "metadata": {},
     "output_type": "display_data"
    }
   ],
   "source": [
    "plot_tree(model, label='none', impurity=False)\n",
    "plt.show()"
   ]
  }
 ],
 "metadata": {
  "kernelspec": {
   "display_name": "intelligible",
   "language": "python",
   "name": "python3"
  },
  "language_info": {
   "codemirror_mode": {
    "name": "ipython",
    "version": 3
   },
   "file_extension": ".py",
   "mimetype": "text/x-python",
   "name": "python",
   "nbconvert_exporter": "python",
   "pygments_lexer": "ipython3",
   "version": "3.8.18"
  }
 },
 "nbformat": 4,
 "nbformat_minor": 2
}
