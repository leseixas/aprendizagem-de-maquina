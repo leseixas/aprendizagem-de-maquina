{
 "cells": [
  {
   "cell_type": "code",
   "execution_count": 2,
   "metadata": {},
   "outputs": [],
   "source": [
    "import numpy as np\n",
    "import pandas as pd\n",
    "import matplotlib.pyplot as plt\n",
    "import random"
   ]
  },
  {
   "cell_type": "code",
   "execution_count": 95,
   "metadata": {},
   "outputs": [
    {
     "name": "stdout",
     "output_type": "stream",
     "text": [
      "[6.328965608145842, 7.2679555025430105, 8.087489009895432, 8.298848067714538, 13.134211496840942, 15.27215352746395, 23.460403270770502, 24.559309876845713, 34.458504139352186, 39.55852497393736, 54.771468419701755, 62.36250486894601, 62.62584312184462, 68.93080603426905, 75.40195176828108, 77.74114662801837, 82.28174308008943, 88.13877136359683, 88.95799916026837, 91.80891760298509]\n"
     ]
    }
   ],
   "source": [
    "xs = [100*random.random() for i in range(20)]\n",
    "xs.sort()\n",
    "print(xs)"
   ]
  },
  {
   "cell_type": "code",
   "execution_count": 96,
   "metadata": {},
   "outputs": [],
   "source": [
    "def f(x: float):\n",
    "    if x<=20:\n",
    "        return np.abs(random.random()*5+0.5*x)\n",
    "    elif (x>20 and x<=40):\n",
    "        return np.abs(random.random()*4+40-0.4*x)\n",
    "    elif (x>40 and x<=75):\n",
    "        return 100-random.random()*2\n",
    "    elif (x>75):\n",
    "        return np.abs(random.random()*20-0.05*x)\n",
    "    "
   ]
  },
  {
   "cell_type": "code",
   "execution_count": 97,
   "metadata": {},
   "outputs": [],
   "source": [
    "ys = [f(x) for x in xs]"
   ]
  },
  {
   "cell_type": "code",
   "execution_count": 98,
   "metadata": {},
   "outputs": [
    {
     "data": {
      "image/png": "[encoded data removed]",
      "text/plain": [
       "<Figure size 640x480 with 1 Axes>"
      ]
     },
     "metadata": {},
     "output_type": "display_data"
    }
   ],
   "source": [
    "plt.scatter(xs, ys)\n",
    "plt.show()"
   ]
  },
  {
   "cell_type": "code",
   "execution_count": 99,
   "metadata": {},
   "outputs": [],
   "source": [
    "df = pd.DataFrame(xs, columns=['x'])"
   ]
  },
  {
   "cell_type": "code",
   "execution_count": 100,
   "metadata": {},
   "outputs": [],
   "source": [
    "df['y'] = ys"
   ]
  },
  {
   "cell_type": "code",
   "execution_count": 101,
   "metadata": {},
   "outputs": [
    {
     "data": {
      "text/html": [
       "<div>\n",
       "<style scoped>\n",
       "    .dataframe tbody tr th:only-of-type {\n",
       "        vertical-align: middle;\n",
       "    }\n",
       "\n",
       "    .dataframe tbody tr th {\n",
       "        vertical-align: top;\n",
       "    }\n",
       "\n",
       "    .dataframe thead th {\n",
       "        text-align: right;\n",
       "    }\n",
       "</style>\n",
       "<table border=\"1\" class=\"dataframe\">\n",
       "  <thead>\n",
       "    <tr style=\"text-align: right;\">\n",
       "      <th></th>\n",
       "      <th>x</th>\n",
       "      <th>y</th>\n",
       "    </tr>\n",
       "  </thead>\n",
       "  <tbody>\n",
       "    <tr>\n",
       "      <th>0</th>\n",
       "      <td>6.328966</td>\n",
       "      <td>7.774829</td>\n",
       "    </tr>\n",
       "    <tr>\n",
       "      <th>1</th>\n",
       "      <td>7.267956</td>\n",
       "      <td>6.916095</td>\n",
       "    </tr>\n",
       "    <tr>\n",
       "      <th>2</th>\n",
       "      <td>8.087489</td>\n",
       "      <td>5.926926</td>\n",
       "    </tr>\n",
       "    <tr>\n",
       "      <th>3</th>\n",
       "      <td>8.298848</td>\n",
       "      <td>6.623446</td>\n",
       "    </tr>\n",
       "    <tr>\n",
       "      <th>4</th>\n",
       "      <td>13.134211</td>\n",
       "      <td>11.370743</td>\n",
       "    </tr>\n",
       "    <tr>\n",
       "      <th>5</th>\n",
       "      <td>15.272154</td>\n",
       "      <td>9.986081</td>\n",
       "    </tr>\n",
       "    <tr>\n",
       "      <th>6</th>\n",
       "      <td>23.460403</td>\n",
       "      <td>31.663068</td>\n",
       "    </tr>\n",
       "    <tr>\n",
       "      <th>7</th>\n",
       "      <td>24.559310</td>\n",
       "      <td>30.598898</td>\n",
       "    </tr>\n",
       "    <tr>\n",
       "      <th>8</th>\n",
       "      <td>34.458504</td>\n",
       "      <td>27.395580</td>\n",
       "    </tr>\n",
       "    <tr>\n",
       "      <th>9</th>\n",
       "      <td>39.558525</td>\n",
       "      <td>24.482239</td>\n",
       "    </tr>\n",
       "    <tr>\n",
       "      <th>10</th>\n",
       "      <td>54.771468</td>\n",
       "      <td>98.923021</td>\n",
       "    </tr>\n",
       "    <tr>\n",
       "      <th>11</th>\n",
       "      <td>62.362505</td>\n",
       "      <td>98.549484</td>\n",
       "    </tr>\n",
       "    <tr>\n",
       "      <th>12</th>\n",
       "      <td>62.625843</td>\n",
       "      <td>99.777667</td>\n",
       "    </tr>\n",
       "    <tr>\n",
       "      <th>13</th>\n",
       "      <td>68.930806</td>\n",
       "      <td>99.413791</td>\n",
       "    </tr>\n",
       "    <tr>\n",
       "      <th>14</th>\n",
       "      <td>75.401952</td>\n",
       "      <td>9.706011</td>\n",
       "    </tr>\n",
       "    <tr>\n",
       "      <th>15</th>\n",
       "      <td>77.741147</td>\n",
       "      <td>6.809333</td>\n",
       "    </tr>\n",
       "    <tr>\n",
       "      <th>16</th>\n",
       "      <td>82.281743</td>\n",
       "      <td>2.933146</td>\n",
       "    </tr>\n",
       "    <tr>\n",
       "      <th>17</th>\n",
       "      <td>88.138771</td>\n",
       "      <td>13.855242</td>\n",
       "    </tr>\n",
       "    <tr>\n",
       "      <th>18</th>\n",
       "      <td>88.957999</td>\n",
       "      <td>0.187449</td>\n",
       "    </tr>\n",
       "    <tr>\n",
       "      <th>19</th>\n",
       "      <td>91.808918</td>\n",
       "      <td>0.385766</td>\n",
       "    </tr>\n",
       "  </tbody>\n",
       "</table>\n",
       "</div>"
      ],
      "text/plain": [
       "            x          y\n",
       "0    6.328966   7.774829\n",
       "1    7.267956   6.916095\n",
       "2    8.087489   5.926926\n",
       "3    8.298848   6.623446\n",
       "4   13.134211  11.370743\n",
       "5   15.272154   9.986081\n",
       "6   23.460403  31.663068\n",
       "7   24.559310  30.598898\n",
       "8   34.458504  27.395580\n",
       "9   39.558525  24.482239\n",
       "10  54.771468  98.923021\n",
       "11  62.362505  98.549484\n",
       "12  62.625843  99.777667\n",
       "13  68.930806  99.413791\n",
       "14  75.401952   9.706011\n",
       "15  77.741147   6.809333\n",
       "16  82.281743   2.933146\n",
       "17  88.138771  13.855242\n",
       "18  88.957999   0.187449\n",
       "19  91.808918   0.385766"
      ]
     },
     "execution_count": 101,
     "metadata": {},
     "output_type": "execute_result"
    }
   ],
   "source": [
    "df"
   ]
  },
  {
   "cell_type": "code",
   "execution_count": 102,
   "metadata": {},
   "outputs": [],
   "source": [
    "df.to_csv(\"exemplo_03.csv\", index=False)"
   ]
  },
  {
   "cell_type": "code",
   "execution_count": null,
   "metadata": {},
   "outputs": [],
   "source": []
  }
 ],
 "metadata": {
  "kernelspec": {
   "display_name": "intelligible",
   "language": "python",
   "name": "python3"
  },
  "language_info": {
   "codemirror_mode": {
    "name": "ipython",
    "version": 3
   },
   "file_extension": ".py",
   "mimetype": "text/x-python",
   "name": "python",
   "nbconvert_exporter": "python",
   "pygments_lexer": "ipython3",
   "version": "3.8.18"
  }
 },
 "nbformat": 4,
 "nbformat_minor": 2
}
